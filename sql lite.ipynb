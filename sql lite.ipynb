{
 "cells": [
  {
   "cell_type": "code",
   "execution_count": 2,
   "id": "b87de05e",
   "metadata": {},
   "outputs": [],
   "source": [
    "import sqlite3"
   ]
  },
  {
   "cell_type": "code",
   "execution_count": 4,
   "id": "af5519f4",
   "metadata": {},
   "outputs": [],
   "source": [
    "db = sqlite3.connect(\"ineuron.db\")"
   ]
  },
  {
   "cell_type": "code",
   "execution_count": 8,
   "id": "a4c92162",
   "metadata": {},
   "outputs": [
    {
     "name": "stdout",
     "output_type": "stream",
     "text": [
      " Volume in drive C has no label.\n",
      " Volume Serial Number is DCAE-CE8D\n",
      "\n",
      " Directory of C:\\Users\\admin\n",
      "\n",
      "01/11/2023  11:22 AM    <DIR>          .\n",
      "01/11/2023  11:22 AM    <DIR>          ..\n",
      "11/15/2022  05:25 AM    <DIR>          .conda\n",
      "11/14/2022  08:00 AM                25 .condarc\n",
      "11/14/2022  07:59 AM    <DIR>          .continuum\n",
      "01/11/2023  10:53 AM    <DIR>          .ipynb_checkpoints\n",
      "11/14/2022  08:01 AM    <DIR>          .ipython\n",
      "11/14/2022  08:00 AM    <DIR>          .jupyter\n",
      "12/16/2022  03:56 PM    <DIR>          __pycache__\n",
      "11/08/2022  05:08 PM    <DIR>          3D Objects\n",
      "11/12/2022  05:50 PM    <DIR>          anaconda3\n",
      "12/08/2022  09:15 PM                77 Ankita.txt\n",
      "12/15/2022  12:02 AM               201 anks.log\n",
      "11/08/2022  05:08 PM    <DIR>          Contacts\n",
      "11/27/2022  10:30 AM             8,294 decorator.ipynb\n",
      "12/16/2022  03:41 PM    <DIR>          Desktop\n",
      "12/16/2022  03:45 PM    <DIR>          Documents\n",
      "01/08/2023  08:17 PM    <DIR>          Downloads\n",
      "12/14/2022  07:39 PM             7,026 exception handling.ipynb\n",
      "11/08/2022  05:08 PM    <DIR>          Favorites\n",
      "12/03/2022  01:15 AM            17,336 function.ipynb\n",
      "12/07/2022  11:54 AM            33,743 functions.ipynb\n",
      "12/08/2022  09:15 PM                 0 google.txt\n",
      "01/11/2023  11:22 AM             8,192 ineuron.db\n",
      "12/08/2022  09:41 PM         2,649,876 iterator.ipynb\n",
      "11/08/2022  05:08 PM    <DIR>          Links\n",
      "12/16/2022  09:58 PM            15,263 logging.ipynb\n",
      "11/27/2022  10:30 AM            25,173 loop,list.ipynb\n",
      "01/09/2023  08:12 PM               589 mangodb.ipynb\n",
      "01/10/2023  11:29 AM             8,903 mongodb.ipynb\n",
      "11/08/2022  05:08 PM    <DIR>          Music\n",
      "08/18/2022  02:53 PM    <DIR>          OneDrive\n",
      "01/06/2023  04:06 PM            22,744 oops.ipynb\n",
      "11/19/2022  11:37 PM            24,112 operators.ipynb\n",
      "12/22/2022  01:10 PM    <DIR>          Pictures\n",
      "12/16/2022  10:16 PM    <DIR>          PycharmProjects\n",
      "11/08/2022  05:08 PM    <DIR>          Saved Games\n",
      "11/08/2022  05:08 PM    <DIR>          Searches\n",
      "01/11/2023  11:22 AM             5,890 sql lite.ipynb\n",
      "12/14/2022  11:58 PM               603 test.log\n",
      "12/14/2022  06:44 PM                15 test1.txt\n",
      "12/16/2022  03:56 PM                 0 test2.py\n",
      "11/14/2022  08:02 AM               850 this1.ipynb\n",
      "11/14/2022  04:12 PM               589 Untitled.ipynb\n",
      "11/17/2022  02:12 AM               589 Untitled1.ipynb\n",
      "12/03/2022  03:17 PM               589 Untitled10.ipynb\n",
      "12/04/2022  04:10 PM            10,135 Untitled11.ipynb\n",
      "12/08/2022  12:43 PM               606 Untitled12.ipynb\n",
      "12/09/2022  11:00 AM                72 Untitled13.ipynb\n",
      "12/10/2022  04:33 PM             2,728 Untitled14.ipynb\n",
      "12/16/2022  11:27 PM               321 Untitled15.ipynb\n",
      "01/09/2023  08:11 PM               589 Untitled16.ipynb\n",
      "01/11/2023  10:52 AM                72 Untitled17.ipynb\n",
      "11/18/2022  03:08 AM             3,979 Untitled2.ipynb\n",
      "11/18/2022  03:40 AM             6,599 Untitled3.ipynb\n",
      "11/19/2022  06:35 PM             9,533 Untitled4.ipynb\n",
      "11/20/2022  10:36 PM               589 Untitled5.ipynb\n",
      "11/21/2022  05:53 PM                72 Untitled6.ipynb\n",
      "11/27/2022  10:29 AM            25,173 Untitled7.ipynb\n",
      "11/27/2022  09:03 PM            14,917 Untitled8.ipynb\n",
      "11/28/2022  12:05 AM                72 Untitled9.ipynb\n",
      "11/08/2022  05:08 PM    <DIR>          Videos\n",
      "              39 File(s)      2,906,136 bytes\n",
      "              23 Dir(s)  174,697,238,528 bytes free\n"
     ]
    }
   ],
   "source": [
    "ls"
   ]
  },
  {
   "cell_type": "code",
   "execution_count": 6,
   "id": "b6457466",
   "metadata": {},
   "outputs": [],
   "source": [
    "c = db.cursor()"
   ]
  },
  {
   "cell_type": "code",
   "execution_count": 7,
   "id": "7e179ffe",
   "metadata": {},
   "outputs": [
    {
     "data": {
      "text/plain": [
       "<sqlite3.Cursor at 0x1527be435e0>"
      ]
     },
     "execution_count": 7,
     "metadata": {},
     "output_type": "execute_result"
    }
   ],
   "source": [
    "c.execute('create table fsds (name text , batchid int , marks real)')"
   ]
  },
  {
   "cell_type": "code",
   "execution_count": 25,
   "id": "2f0f96c0",
   "metadata": {},
   "outputs": [
    {
     "data": {
      "text/plain": [
       "<sqlite3.Cursor at 0x1527be58960>"
      ]
     },
     "execution_count": 25,
     "metadata": {},
     "output_type": "execute_result"
    }
   ],
   "source": [
    "c.execute(\"insert into fsds values ('ankita',456,289.78)\")"
   ]
  },
  {
   "cell_type": "code",
   "execution_count": 26,
   "id": "7f57f438",
   "metadata": {},
   "outputs": [],
   "source": [
    "data = c.execute(\"select *from fsds\")"
   ]
  },
  {
   "cell_type": "code",
   "execution_count": 27,
   "id": "916faf6c",
   "metadata": {},
   "outputs": [
    {
     "name": "stdout",
     "output_type": "stream",
     "text": [
      "('ankita', 456, 2.0)\n",
      "('ankita', 456, 289.78)\n",
      "('ankita', 456, 289.78)\n"
     ]
    }
   ],
   "source": [
    "for i in data : #to extract data\n",
    "    print (i)"
   ]
  },
  {
   "cell_type": "code",
   "execution_count": 28,
   "id": "8399a61c",
   "metadata": {},
   "outputs": [],
   "source": [
    "db.commit()"
   ]
  },
  {
   "cell_type": "code",
   "execution_count": 29,
   "id": "58d1ceb9",
   "metadata": {},
   "outputs": [],
   "source": [
    "db.close()"
   ]
  },
  {
   "cell_type": "code",
   "execution_count": 30,
   "id": "fb979e74",
   "metadata": {},
   "outputs": [
    {
     "name": "stdout",
     "output_type": "stream",
     "text": [
      " Volume in drive C has no label.\n",
      " Volume Serial Number is DCAE-CE8D\n",
      "\n",
      " Directory of C:\\Users\\admin\n",
      "\n",
      "01/11/2023  01:08 PM    <DIR>          .\n",
      "01/11/2023  01:08 PM    <DIR>          ..\n",
      "11/15/2022  05:25 AM    <DIR>          .conda\n",
      "11/14/2022  08:00 AM                25 .condarc\n",
      "11/14/2022  07:59 AM    <DIR>          .continuum\n",
      "01/11/2023  10:53 AM    <DIR>          .ipynb_checkpoints\n",
      "11/14/2022  08:01 AM    <DIR>          .ipython\n",
      "11/14/2022  08:00 AM    <DIR>          .jupyter\n",
      "12/16/2022  03:56 PM    <DIR>          __pycache__\n",
      "11/08/2022  05:08 PM    <DIR>          3D Objects\n",
      "11/12/2022  05:50 PM    <DIR>          anaconda3\n",
      "12/08/2022  09:15 PM                77 Ankita.txt\n",
      "12/15/2022  12:02 AM               201 anks.log\n",
      "11/08/2022  05:08 PM    <DIR>          Contacts\n",
      "11/27/2022  10:30 AM             8,294 decorator.ipynb\n",
      "12/16/2022  03:41 PM    <DIR>          Desktop\n",
      "12/16/2022  03:45 PM    <DIR>          Documents\n",
      "01/08/2023  08:17 PM    <DIR>          Downloads\n",
      "12/14/2022  07:39 PM             7,026 exception handling.ipynb\n",
      "11/08/2022  05:08 PM    <DIR>          Favorites\n",
      "12/03/2022  01:15 AM            17,336 function.ipynb\n",
      "12/07/2022  11:54 AM            33,743 functions.ipynb\n",
      "12/08/2022  09:15 PM                 0 google.txt\n",
      "01/11/2023  01:08 PM             8,192 ineuron.db\n",
      "12/08/2022  09:41 PM         2,649,876 iterator.ipynb\n",
      "11/08/2022  05:08 PM    <DIR>          Links\n",
      "12/16/2022  09:58 PM            15,263 logging.ipynb\n",
      "11/27/2022  10:30 AM            25,173 loop,list.ipynb\n",
      "01/09/2023  08:12 PM               589 mangodb.ipynb\n",
      "01/10/2023  11:29 AM             8,903 mongodb.ipynb\n",
      "11/08/2022  05:08 PM    <DIR>          Music\n",
      "08/18/2022  02:53 PM    <DIR>          OneDrive\n",
      "01/06/2023  04:06 PM            22,744 oops.ipynb\n",
      "11/19/2022  11:37 PM            24,112 operators.ipynb\n",
      "12/22/2022  01:10 PM    <DIR>          Pictures\n",
      "12/16/2022  10:16 PM    <DIR>          PycharmProjects\n",
      "11/08/2022  05:08 PM    <DIR>          Saved Games\n",
      "11/08/2022  05:08 PM    <DIR>          Searches\n",
      "01/11/2023  01:06 PM            11,910 sql lite.ipynb\n",
      "12/14/2022  11:58 PM               603 test.log\n",
      "12/14/2022  06:44 PM                15 test1.txt\n",
      "12/16/2022  03:56 PM                 0 test2.py\n",
      "11/14/2022  08:02 AM               850 this1.ipynb\n",
      "11/14/2022  04:12 PM               589 Untitled.ipynb\n",
      "11/17/2022  02:12 AM               589 Untitled1.ipynb\n",
      "12/03/2022  03:17 PM               589 Untitled10.ipynb\n",
      "12/04/2022  04:10 PM            10,135 Untitled11.ipynb\n",
      "12/08/2022  12:43 PM               606 Untitled12.ipynb\n",
      "12/09/2022  11:00 AM                72 Untitled13.ipynb\n",
      "12/10/2022  04:33 PM             2,728 Untitled14.ipynb\n",
      "12/16/2022  11:27 PM               321 Untitled15.ipynb\n",
      "01/09/2023  08:11 PM               589 Untitled16.ipynb\n",
      "01/11/2023  10:52 AM                72 Untitled17.ipynb\n",
      "11/18/2022  03:08 AM             3,979 Untitled2.ipynb\n",
      "11/18/2022  03:40 AM             6,599 Untitled3.ipynb\n",
      "11/19/2022  06:35 PM             9,533 Untitled4.ipynb\n",
      "11/20/2022  10:36 PM               589 Untitled5.ipynb\n",
      "11/21/2022  05:53 PM                72 Untitled6.ipynb\n",
      "11/27/2022  10:29 AM            25,173 Untitled7.ipynb\n",
      "11/27/2022  09:03 PM            14,917 Untitled8.ipynb\n",
      "11/28/2022  12:05 AM                72 Untitled9.ipynb\n",
      "11/08/2022  05:08 PM    <DIR>          Videos\n",
      "              39 File(s)      2,912,156 bytes\n",
      "              23 Dir(s)  174,730,661,888 bytes free\n"
     ]
    }
   ],
   "source": [
    "ls"
   ]
  },
  {
   "cell_type": "code",
   "execution_count": 31,
   "id": "2eedb940",
   "metadata": {},
   "outputs": [],
   "source": [
    "db = sqlite3.connect(\"ineuron.db\")"
   ]
  },
  {
   "cell_type": "code",
   "execution_count": 32,
   "id": "3f10aa16",
   "metadata": {},
   "outputs": [],
   "source": [
    "c = db.cursor()"
   ]
  },
  {
   "cell_type": "code",
   "execution_count": 35,
   "id": "504a213e",
   "metadata": {},
   "outputs": [],
   "source": [
    "data = c.execute(\"select *from fsds where marks > 40\")"
   ]
  },
  {
   "cell_type": "code",
   "execution_count": 37,
   "id": "e428ed99",
   "metadata": {},
   "outputs": [
    {
     "name": "stdout",
     "output_type": "stream",
     "text": [
      "('ankita', 456, 289.78)\n",
      "('ankita', 456, 289.78)\n"
     ]
    }
   ],
   "source": [
    "for i in data:\n",
    "    print(i)"
   ]
  },
  {
   "cell_type": "code",
   "execution_count": 38,
   "id": "607e1c11",
   "metadata": {},
   "outputs": [],
   "source": [
    "db.close()"
   ]
  },
  {
   "cell_type": "code",
   "execution_count": 39,
   "id": "7884a2ad",
   "metadata": {},
   "outputs": [],
   "source": [
    "db = sqlite3.connect(\"person.db\")"
   ]
  },
  {
   "cell_type": "code",
   "execution_count": 40,
   "id": "56d7a38d",
   "metadata": {},
   "outputs": [],
   "source": [
    "c = db.cursor()"
   ]
  },
  {
   "cell_type": "code",
   "execution_count": 43,
   "id": "7af9faca",
   "metadata": {},
   "outputs": [
    {
     "data": {
      "text/plain": [
       "<function Connection.close>"
      ]
     },
     "execution_count": 43,
     "metadata": {},
     "output_type": "execute_result"
    }
   ],
   "source": [
    "db.close"
   ]
  },
  {
   "cell_type": "code",
   "execution_count": 44,
   "id": "24ab62f8",
   "metadata": {},
   "outputs": [],
   "source": [
    "#map\n",
    "l = [2,3,4,1,5]"
   ]
  },
  {
   "cell_type": "code",
   "execution_count": 45,
   "id": "2f9c4cda",
   "metadata": {},
   "outputs": [],
   "source": [
    "#increment\n",
    "def test(a):\n",
    "    return a+5\n"
   ]
  },
  {
   "cell_type": "code",
   "execution_count": 46,
   "id": "43b506c7",
   "metadata": {},
   "outputs": [
    {
     "data": {
      "text/plain": [
       "<map at 0x1527bd74b50>"
      ]
     },
     "execution_count": 46,
     "metadata": {},
     "output_type": "execute_result"
    }
   ],
   "source": [
    "map(test , l)"
   ]
  },
  {
   "cell_type": "code",
   "execution_count": 47,
   "id": "fdd17e63",
   "metadata": {},
   "outputs": [],
   "source": [
    "def test1(a):\n",
    "    return a*456789"
   ]
  },
  {
   "cell_type": "code",
   "execution_count": 48,
   "id": "31401874",
   "metadata": {},
   "outputs": [
    {
     "data": {
      "text/plain": [
       "[7, 8, 9, 6, 10]"
      ]
     },
     "execution_count": 48,
     "metadata": {},
     "output_type": "execute_result"
    }
   ],
   "source": [
    "list(map(test,l))"
   ]
  },
  {
   "cell_type": "code",
   "execution_count": 49,
   "id": "f7a67432",
   "metadata": {},
   "outputs": [
    {
     "data": {
      "text/plain": [
       "[7, 8, 9, 6, 10]"
      ]
     },
     "execution_count": 49,
     "metadata": {},
     "output_type": "execute_result"
    }
   ],
   "source": [
    "list(map(lambda x :x+5 ,l))"
   ]
  },
  {
   "cell_type": "code",
   "execution_count": 50,
   "id": "d5732dad",
   "metadata": {},
   "outputs": [
    {
     "data": {
      "text/plain": [
       "[2, 3, 4, 1, 5]"
      ]
     },
     "execution_count": 50,
     "metadata": {},
     "output_type": "execute_result"
    }
   ],
   "source": [
    "l"
   ]
  },
  {
   "cell_type": "code",
   "execution_count": 52,
   "id": "dd6f4821",
   "metadata": {},
   "outputs": [],
   "source": [
    "#filter\n",
    "l = [2,4,5,67,7,3,8]"
   ]
  },
  {
   "cell_type": "code",
   "execution_count": 54,
   "id": "3c363330",
   "metadata": {},
   "outputs": [],
   "source": [
    "def test(a):#divisable by 2\n",
    "    if a%2++0:\n",
    "        return 0"
   ]
  },
  {
   "cell_type": "code",
   "execution_count": 59,
   "id": "110e2991",
   "metadata": {},
   "outputs": [
    {
     "data": {
      "text/plain": [
       "[2, 4, 8]"
      ]
     },
     "execution_count": 59,
     "metadata": {},
     "output_type": "execute_result"
    }
   ],
   "source": [
    "[i for i in l if i%2 == 0]"
   ]
  },
  {
   "cell_type": "code",
   "execution_count": 60,
   "id": "fde473d0",
   "metadata": {},
   "outputs": [
    {
     "data": {
      "text/plain": [
       "[]"
      ]
     },
     "execution_count": 60,
     "metadata": {},
     "output_type": "execute_result"
    }
   ],
   "source": [
    "list(filter(test,l))"
   ]
  }
 ],
 "metadata": {
  "kernelspec": {
   "display_name": "Python 3 (ipykernel)",
   "language": "python",
   "name": "python3"
  },
  "language_info": {
   "codemirror_mode": {
    "name": "ipython",
    "version": 3
   },
   "file_extension": ".py",
   "mimetype": "text/x-python",
   "name": "python",
   "nbconvert_exporter": "python",
   "pygments_lexer": "ipython3",
   "version": "3.9.13"
  }
 },
 "nbformat": 4,
 "nbformat_minor": 5
}
